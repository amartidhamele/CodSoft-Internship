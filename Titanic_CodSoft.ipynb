{
  "nbformat": 4,
  "nbformat_minor": 0,
  "metadata": {
    "colab": {
      "provenance": [],
      "authorship_tag": "ABX9TyND12ypmJfykm07fFnbanGH",
      "include_colab_link": true
    },
    "kernelspec": {
      "name": "python3",
      "display_name": "Python 3"
    },
    "language_info": {
      "name": "python"
    }
  },
  "cells": [
    {
      "cell_type": "markdown",
      "metadata": {
        "id": "view-in-github",
        "colab_type": "text"
      },
      "source": [
        "<a href=\"https://colab.research.google.com/github/amartidhamele/CodSoft-Internship/blob/main/Titanic_CodSoft.ipynb\" target=\"_parent\"><img src=\"https://colab.research.google.com/assets/colab-badge.svg\" alt=\"Open In Colab\"/></a>"
      ]
    },
    {
      "cell_type": "code",
      "execution_count": null,
      "metadata": {
        "id": "l6RIetVdXkUh"
      },
      "outputs": [],
      "source": [
        "#task-1\n",
        "\n",
        "#titanic survival prediction\n",
        "\n",
        "import pandas as pd\n",
        "import numpy as np\n",
        "import matplotlib.pyplot as plt\n",
        "import seaborn as sns\n",
        "from sklearn.preprocessing import MinMaxScaler\n",
        "from sklearn.model_selection import train_test_split\n",
        "from sklearn.metrics import classification_report,confusion_matrix"
      ]
    },
    {
      "cell_type": "code",
      "source": [
        "titanic=pd.read_csv(\"Titanic-Dataset.csv\")\n",
        "titanic.info()"
      ],
      "metadata": {
        "id": "yQDq6CVFTJHo",
        "colab": {
          "base_uri": "https://localhost:8080/"
        },
        "outputId": "be6f3c00-b64e-4743-ba6b-6f3927908f5e"
      },
      "execution_count": null,
      "outputs": [
        {
          "output_type": "stream",
          "name": "stdout",
          "text": [
            "<class 'pandas.core.frame.DataFrame'>\n",
            "RangeIndex: 891 entries, 0 to 890\n",
            "Data columns (total 12 columns):\n",
            " #   Column       Non-Null Count  Dtype  \n",
            "---  ------       --------------  -----  \n",
            " 0   PassengerId  891 non-null    int64  \n",
            " 1   Survived     891 non-null    int64  \n",
            " 2   Pclass       891 non-null    int64  \n",
            " 3   Name         891 non-null    object \n",
            " 4   Sex          891 non-null    object \n",
            " 5   Age          714 non-null    float64\n",
            " 6   SibSp        891 non-null    int64  \n",
            " 7   Parch        891 non-null    int64  \n",
            " 8   Ticket       891 non-null    object \n",
            " 9   Fare         891 non-null    float64\n",
            " 10  Cabin        204 non-null    object \n",
            " 11  Embarked     889 non-null    object \n",
            "dtypes: float64(2), int64(5), object(5)\n",
            "memory usage: 83.7+ KB\n"
          ]
        }
      ]
    },
    {
      "cell_type": "code",
      "source": [
        "Gender=[]\n",
        "for i in range(len(titanic['Age'])):\n",
        "    if titanic['Sex'][i]=='male':\n",
        "        Gender.append(0)\n",
        "    else:\n",
        "        Gender.append(1)\n",
        "    if np.isnan(titanic['Age'][i]):\n",
        "        titanic.at[i, 'Age'] = 30\n",
        "    if pd.isna(titanic['Embarked'][i]):\n",
        "        titanic.at[i, 'Embarked'] = 'S'\n",
        "Embarked=[]\n",
        "for i in range(len(titanic['Age'])):\n",
        "    if titanic['Embarked'][i]=='S':\n",
        "        titanic.at[i, 'Embarked'] = 0\n",
        "    else:\n",
        "        titanic.at[i, 'Embarked'] = 1\n",
        "titanic['Gender']=Gender\n",
        "titanic=titanic.drop('Sex',axis=1)\n",
        "titanic=titanic.drop('Cabin',axis=1)\n",
        "titanic=titanic.drop('Name',axis=1)\n",
        "titanic=titanic.drop('Ticket',axis=1)\n",
        "titanic.info()"
      ],
      "metadata": {
        "colab": {
          "base_uri": "https://localhost:8080/"
        },
        "id": "QI84_8IzTgm6",
        "outputId": "2b378e97-fe75-4611-f4e9-ef668520851c"
      },
      "execution_count": null,
      "outputs": [
        {
          "output_type": "stream",
          "name": "stdout",
          "text": [
            "<class 'pandas.core.frame.DataFrame'>\n",
            "RangeIndex: 891 entries, 0 to 890\n",
            "Data columns (total 9 columns):\n",
            " #   Column       Non-Null Count  Dtype  \n",
            "---  ------       --------------  -----  \n",
            " 0   PassengerId  891 non-null    int64  \n",
            " 1   Survived     891 non-null    int64  \n",
            " 2   Pclass       891 non-null    int64  \n",
            " 3   Age          891 non-null    float64\n",
            " 4   SibSp        891 non-null    int64  \n",
            " 5   Parch        891 non-null    int64  \n",
            " 6   Fare         891 non-null    float64\n",
            " 7   Embarked     891 non-null    object \n",
            " 8   Gender       891 non-null    int64  \n",
            "dtypes: float64(2), int64(6), object(1)\n",
            "memory usage: 62.8+ KB\n"
          ]
        }
      ]
    },
    {
      "cell_type": "code",
      "source": [
        "am=np.mean(titanic['Age'])\n",
        "ae=titanic['Embarked'].mode().iloc[0]\n",
        "am"
      ],
      "metadata": {
        "colab": {
          "base_uri": "https://localhost:8080/"
        },
        "id": "e_J7b2gFTlIO",
        "outputId": "a1920ef5-7506-4073-b9d9-369418ed4d2b"
      },
      "execution_count": null,
      "outputs": [
        {
          "output_type": "execute_result",
          "data": {
            "text/plain": [
              "29.758888888888887"
            ]
          },
          "metadata": {},
          "execution_count": 5
        }
      ]
    },
    {
      "cell_type": "code",
      "source": [
        "titanic['Age'].isna().sum()"
      ],
      "metadata": {
        "colab": {
          "base_uri": "https://localhost:8080/"
        },
        "id": "EthdYN9lUmaE",
        "outputId": "d6c2190a-3bef-4fdb-fba7-95f817af9374"
      },
      "execution_count": null,
      "outputs": [
        {
          "output_type": "execute_result",
          "data": {
            "text/plain": [
              "0"
            ]
          },
          "metadata": {},
          "execution_count": 6
        }
      ]
    },
    {
      "cell_type": "code",
      "source": [
        "X=titanic.drop('Survived',axis=1)\n",
        "y=titanic.Survived\n",
        "scaler=MinMaxScaler()\n",
        "X=scaler.fit_transform(X)\n",
        "X_train, X_test, y_train, y_test = train_test_split(X, y, test_size = 0.2, random_state = 45)"
      ],
      "metadata": {
        "id": "6J7W1JJyUqme"
      },
      "execution_count": null,
      "outputs": []
    },
    {
      "cell_type": "code",
      "source": [
        "from sklearn.linear_model import LogisticRegression\n",
        "print('Logistic Regression')\n",
        "\n",
        "model = LogisticRegression()\n",
        "model.fit(X_train, y_train)\n",
        "y_pred=model.predict(X_test)\n",
        "\n",
        "cm = confusion_matrix(y_test, y_pred)\n",
        "print (\"Confusion Matrix : \\n\", cm)\n",
        "print ('Classification Report : ')\n",
        "print (classification_report(y_test, y_pred))"
      ],
      "metadata": {
        "colab": {
          "base_uri": "https://localhost:8080/"
        },
        "id": "3tbiVaFeU2KL",
        "outputId": "42e2714b-fa58-42de-83c5-775017aa1761"
      },
      "execution_count": null,
      "outputs": [
        {
          "output_type": "stream",
          "name": "stdout",
          "text": [
            "Logistic Regression\n",
            "Confusion Matrix : \n",
            " [[102  15]\n",
            " [ 13  49]]\n",
            "Classification Report : \n",
            "              precision    recall  f1-score   support\n",
            "\n",
            "           0       0.89      0.87      0.88       117\n",
            "           1       0.77      0.79      0.78        62\n",
            "\n",
            "    accuracy                           0.84       179\n",
            "   macro avg       0.83      0.83      0.83       179\n",
            "weighted avg       0.84      0.84      0.84       179\n",
            "\n"
          ]
        }
      ]
    },
    {
      "cell_type": "code",
      "source": [
        "from sklearn.linear_model import RidgeClassifier\n",
        "print('Logistic Regression Ridge')\n",
        "\n",
        "model = RidgeClassifier()\n",
        "model.fit(X_train, y_train)\n",
        "y_pred=model.predict(X_test)\n",
        "\n",
        "cm = confusion_matrix(y_test, y_pred)\n",
        "print (\"Confusion Matrix : \\n\", cm)\n",
        "print ('Classification Report : ')\n",
        "print (classification_report(y_test, y_pred))"
      ],
      "metadata": {
        "colab": {
          "base_uri": "https://localhost:8080/"
        },
        "id": "unm3wc5IVfWa",
        "outputId": "7039004f-f9c4-43ab-fe57-acd262ec9242"
      },
      "execution_count": null,
      "outputs": [
        {
          "output_type": "stream",
          "name": "stdout",
          "text": [
            "Logistic Regression Ridge\n",
            "Confusion Matrix : \n",
            " [[102  15]\n",
            " [ 14  48]]\n",
            "Classification Report : \n",
            "              precision    recall  f1-score   support\n",
            "\n",
            "           0       0.88      0.87      0.88       117\n",
            "           1       0.76      0.77      0.77        62\n",
            "\n",
            "    accuracy                           0.84       179\n",
            "   macro avg       0.82      0.82      0.82       179\n",
            "weighted avg       0.84      0.84      0.84       179\n",
            "\n"
          ]
        }
      ]
    },
    {
      "cell_type": "code",
      "source": [
        "from sklearn.svm import SVC\n",
        "print('SVM Classifier Linear Kernel')\n",
        "\n",
        "model = SVC(kernel='linear')\n",
        "model.fit(X_train, y_train)\n",
        "y_pred=model.predict(X_test)\n",
        "\n",
        "cm = confusion_matrix(y_test, y_pred)\n",
        "print (\"Confusion Matrix : \\n\", cm)\n",
        "print ('Classification Report : ')\n",
        "print (classification_report(y_test, y_pred))"
      ],
      "metadata": {
        "id": "rttb3nmeV6FU",
        "colab": {
          "base_uri": "https://localhost:8080/"
        },
        "outputId": "d8a63303-0f62-4361-e5b1-aee6db895658"
      },
      "execution_count": null,
      "outputs": [
        {
          "output_type": "stream",
          "name": "stdout",
          "text": [
            "SVM Classifier Linear Kernel\n",
            "Confusion Matrix : \n",
            " [[101  16]\n",
            " [ 14  48]]\n",
            "Classification Report : \n",
            "              precision    recall  f1-score   support\n",
            "\n",
            "           0       0.88      0.86      0.87       117\n",
            "           1       0.75      0.77      0.76        62\n",
            "\n",
            "    accuracy                           0.83       179\n",
            "   macro avg       0.81      0.82      0.82       179\n",
            "weighted avg       0.83      0.83      0.83       179\n",
            "\n"
          ]
        }
      ]
    },
    {
      "cell_type": "code",
      "source": [
        "from sklearn.svm import SVC\n",
        "print('SVM Classifier Polynomial Kernel')\n",
        "\n",
        "model = SVC(kernel='poly')\n",
        "model.fit(X_train, y_train)\n",
        "y_pred=model.predict(X_test)\n",
        "\n",
        "cm = confusion_matrix(y_test, y_pred)\n",
        "print (\"Confusion Matrix : \\n\", cm)\n",
        "print ('Classification Report : ')\n",
        "print (classification_report(y_test, y_pred))"
      ],
      "metadata": {
        "id": "Krnzd8yUWHM6",
        "colab": {
          "base_uri": "https://localhost:8080/"
        },
        "outputId": "dcc0b255-51cc-4ba9-c8e4-1020001a355d"
      },
      "execution_count": null,
      "outputs": [
        {
          "output_type": "stream",
          "name": "stdout",
          "text": [
            "SVM Classifier Polynomial Kernel\n",
            "Confusion Matrix : \n",
            " [[108   9]\n",
            " [ 16  46]]\n",
            "Classification Report : \n",
            "              precision    recall  f1-score   support\n",
            "\n",
            "           0       0.87      0.92      0.90       117\n",
            "           1       0.84      0.74      0.79        62\n",
            "\n",
            "    accuracy                           0.86       179\n",
            "   macro avg       0.85      0.83      0.84       179\n",
            "weighted avg       0.86      0.86      0.86       179\n",
            "\n"
          ]
        }
      ]
    },
    {
      "cell_type": "code",
      "source": [
        "from sklearn.svm import SVC\n",
        "print('SVM Classifier RBF Kernel')\n",
        "\n",
        "model = SVC(kernel='rbf')\n",
        "model.fit(X_train, y_train)\n",
        "y_pred=model.predict(X_test)\n",
        "\n",
        "cm = confusion_matrix(y_test, y_pred)\n",
        "print (\"Confusion Matrix : \\n\", cm)\n",
        "print ('Classification Report : ')\n",
        "print (classification_report(y_test, y_pred))"
      ],
      "metadata": {
        "id": "v-XbNp4kXExf",
        "colab": {
          "base_uri": "https://localhost:8080/"
        },
        "outputId": "a1eebe10-b509-4add-84a7-204e97348fcd"
      },
      "execution_count": null,
      "outputs": [
        {
          "output_type": "stream",
          "name": "stdout",
          "text": [
            "SVM Classifier RBF Kernel\n",
            "Confusion Matrix : \n",
            " [[112   5]\n",
            " [ 17  45]]\n",
            "Classification Report : \n",
            "              precision    recall  f1-score   support\n",
            "\n",
            "           0       0.87      0.96      0.91       117\n",
            "           1       0.90      0.73      0.80        62\n",
            "\n",
            "    accuracy                           0.88       179\n",
            "   macro avg       0.88      0.84      0.86       179\n",
            "weighted avg       0.88      0.88      0.87       179\n",
            "\n"
          ]
        }
      ]
    },
    {
      "cell_type": "code",
      "source": [
        "from sklearn.svm import SVC\n",
        "print('SVM Classifier Sigmoid Kernel')\n",
        "\n",
        "model = SVC(kernel='sigmoid')\n",
        "model.fit(X_train, y_train)\n",
        "y_pred=model.predict(X_test)\n",
        "\n",
        "cm = confusion_matrix(y_test, y_pred)\n",
        "print (\"Confusion Matrix : \\n\", cm)\n",
        "print ('Classification Report : ')\n",
        "print (classification_report(y_test, y_pred))"
      ],
      "metadata": {
        "id": "2ujIQfXgXPaz",
        "colab": {
          "base_uri": "https://localhost:8080/"
        },
        "outputId": "fe140341-e50f-48ef-f386-23db43cc5ffb"
      },
      "execution_count": null,
      "outputs": [
        {
          "output_type": "stream",
          "name": "stdout",
          "text": [
            "SVM Classifier Sigmoid Kernel\n",
            "Confusion Matrix : \n",
            " [[90 27]\n",
            " [30 32]]\n",
            "Classification Report : \n",
            "              precision    recall  f1-score   support\n",
            "\n",
            "           0       0.75      0.77      0.76       117\n",
            "           1       0.54      0.52      0.53        62\n",
            "\n",
            "    accuracy                           0.68       179\n",
            "   macro avg       0.65      0.64      0.64       179\n",
            "weighted avg       0.68      0.68      0.68       179\n",
            "\n"
          ]
        }
      ]
    },
    {
      "cell_type": "code",
      "source": [
        "from sklearn.svm import NuSVC\n",
        "print('Nu SVM Linear Kernel')\n",
        "\n",
        "model = NuSVC(kernel='linear')\n",
        "model.fit(X_train, y_train)\n",
        "y_pred=model.predict(X_test)\n",
        "\n",
        "cm = confusion_matrix(y_test, y_pred)\n",
        "print (\"Confusion Matrix : \\n\", cm)\n",
        "print ('Classification Report : ')\n",
        "print (classification_report(y_test, y_pred))"
      ],
      "metadata": {
        "colab": {
          "base_uri": "https://localhost:8080/"
        },
        "id": "IFKHXpMQXaU-",
        "outputId": "adad6d53-c2fd-4f3f-b618-e4b8936c7768"
      },
      "execution_count": null,
      "outputs": [
        {
          "output_type": "stream",
          "name": "stdout",
          "text": [
            "Nu SVM Linear Kernel\n",
            "Confusion Matrix : \n",
            " [[101  16]\n",
            " [ 14  48]]\n",
            "Classification Report : \n",
            "              precision    recall  f1-score   support\n",
            "\n",
            "           0       0.88      0.86      0.87       117\n",
            "           1       0.75      0.77      0.76        62\n",
            "\n",
            "    accuracy                           0.83       179\n",
            "   macro avg       0.81      0.82      0.82       179\n",
            "weighted avg       0.83      0.83      0.83       179\n",
            "\n"
          ]
        }
      ]
    },
    {
      "cell_type": "code",
      "source": [
        "from sklearn.svm import NuSVC\n",
        "print('Nu SVM Polynomial Kernel')\n",
        "\n",
        "model = NuSVC(kernel='poly')\n",
        "model.fit(X_train, y_train)\n",
        "y_pred=model.predict(X_test)\n",
        "\n",
        "cm = confusion_matrix(y_test, y_pred)\n",
        "print (\"Confusion Matrix : \\n\", cm)\n",
        "print ('Classification Report : ')\n",
        "print (classification_report(y_test, y_pred))"
      ],
      "metadata": {
        "colab": {
          "base_uri": "https://localhost:8080/"
        },
        "id": "Kk4nrtbOG8Tc",
        "outputId": "1086343b-6fde-4f8e-f117-b189b94bd496"
      },
      "execution_count": null,
      "outputs": [
        {
          "output_type": "stream",
          "name": "stdout",
          "text": [
            "Nu SVM Polynomial Kernel\n",
            "Confusion Matrix : \n",
            " [[104  13]\n",
            " [ 16  46]]\n",
            "Classification Report : \n",
            "              precision    recall  f1-score   support\n",
            "\n",
            "           0       0.87      0.89      0.88       117\n",
            "           1       0.78      0.74      0.76        62\n",
            "\n",
            "    accuracy                           0.84       179\n",
            "   macro avg       0.82      0.82      0.82       179\n",
            "weighted avg       0.84      0.84      0.84       179\n",
            "\n"
          ]
        }
      ]
    },
    {
      "cell_type": "code",
      "source": [
        "from sklearn.svm import NuSVC\n",
        "print('Nu SVM RBF Kernel')\n",
        "\n",
        "model = NuSVC(kernel='rbf')\n",
        "model.fit(X_train, y_train)\n",
        "y_pred=model.predict(X_test)\n",
        "\n",
        "cm = confusion_matrix(y_test, y_pred)\n",
        "print (\"Confusion Matrix : \\n\", cm)\n",
        "print ('Classification Report : ')\n",
        "print (classification_report(y_test, y_pred))"
      ],
      "metadata": {
        "colab": {
          "base_uri": "https://localhost:8080/"
        },
        "id": "KuwGRxAfG-km",
        "outputId": "8e41a8fe-97c2-4a1f-ec60-0ad3772fb006"
      },
      "execution_count": null,
      "outputs": [
        {
          "output_type": "stream",
          "name": "stdout",
          "text": [
            "Nu SVM RBF Kernel\n",
            "Confusion Matrix : \n",
            " [[104  13]\n",
            " [ 14  48]]\n",
            "Classification Report : \n",
            "              precision    recall  f1-score   support\n",
            "\n",
            "           0       0.88      0.89      0.89       117\n",
            "           1       0.79      0.77      0.78        62\n",
            "\n",
            "    accuracy                           0.85       179\n",
            "   macro avg       0.83      0.83      0.83       179\n",
            "weighted avg       0.85      0.85      0.85       179\n",
            "\n"
          ]
        }
      ]
    },
    {
      "cell_type": "code",
      "source": [
        "from sklearn.svm import NuSVC\n",
        "print('Nu SVM Sigmoid Kernel')\n",
        "\n",
        "model = NuSVC(kernel='sigmoid')\n",
        "model.fit(X_train, y_train)\n",
        "y_pred=model.predict(X_test)\n",
        "\n",
        "cm = confusion_matrix(y_test, y_pred)\n",
        "print (\"Confusion Matrix : \\n\", cm)\n",
        "print ('Classification Report : ')\n",
        "print (classification_report(y_test, y_pred))"
      ],
      "metadata": {
        "colab": {
          "base_uri": "https://localhost:8080/"
        },
        "id": "FDE_0RVeHED1",
        "outputId": "104b3c68-6ce9-4f4f-923a-5c326b7b15db"
      },
      "execution_count": null,
      "outputs": [
        {
          "output_type": "stream",
          "name": "stdout",
          "text": [
            "Nu SVM Sigmoid Kernel\n",
            "Confusion Matrix : \n",
            " [[105  12]\n",
            " [ 35  27]]\n",
            "Classification Report : \n",
            "              precision    recall  f1-score   support\n",
            "\n",
            "           0       0.75      0.90      0.82       117\n",
            "           1       0.69      0.44      0.53        62\n",
            "\n",
            "    accuracy                           0.74       179\n",
            "   macro avg       0.72      0.67      0.68       179\n",
            "weighted avg       0.73      0.74      0.72       179\n",
            "\n"
          ]
        }
      ]
    }
  ]
}